{
 "cells": [
  {
   "attachments": {},
   "cell_type": "markdown",
   "metadata": {},
   "source": [
    "# Graph Isomorphism Problem\n",
    "\n",
    "**Graph Isomorphism Problem** (or GI, for short) concerns two finite graphs, whether they are isomorphic or not. A graph is **isomorphic** when the graph can have more than one form, with:\n",
    "\n",
    "* the same number of edges,\n",
    "* the same number of nodes, \n",
    "* each node has the same number of degree as its exact same node in another graph\n",
    "* a bijection that when one node is linked to another node in another graph, that link equates to one exists in the edges of both graphs\n",
    "\n",
    "In this case, **Graph Isomorphism Problem** involves how to determine if the graphs are isomorphic or not, fulfilling conditions above. This would involve making combinations of bijections to determine the isomorphic nature of the graphs. The combinations make would increase in a factorial number, depending on the amount of nodes, (e.g. 5 nodes will have 5! possible combinations) if done in a brute force method."
   ]
  },
  {
   "attachments": {},
   "cell_type": "markdown",
   "metadata": {},
   "source": [
    "## Determining the Isomorphic Nature\n",
    "To determine the isomorphic nature, let's set an example of a simple 3 node grpah, and its isomorphic graph."
   ]
  },
  {
   "cell_type": "code",
   "execution_count": 23,
   "metadata": {},
   "outputs": [
    {
     "data": {
      "image/png": "[encoded data removed]",
      "text/plain": [
       "<Figure size 640x480 with 2 Axes>"
      ]
     },
     "metadata": {},
     "output_type": "display_data"
    }
   ],
   "source": [
    "# Do \"pip install networkx\" and \"pip install matplotlib\" first to get the full functionalities \n",
    "import networkx as nx\n",
    "import matplotlib.pyplot as plt\n",
    "\n",
    "# First Graph\n",
    "G = nx.Graph()\n",
    "GE = [(1, 2), (2, 3)] # Add edges\n",
    "\n",
    "G.add_nodes_from([\n",
    "    (1, {\"color\": \"red\"}),\n",
    "    (2, {\"color\": \"green\"}),\n",
    "    (3, {\"color\": \"blue\"})\n",
    "])\n",
    "G.add_edges_from(GE)\n",
    "\n",
    "# Second Graph\n",
    "H = nx.Graph()\n",
    "HE = [(\"a\", \"b\"), (\"b\", \"c\")]\n",
    "\n",
    "H.add_nodes_from([\n",
    "    (\"a\", {\"color\": \"red\"}),\n",
    "    (\"b\", {\"color\": \"green\"}),\n",
    "    (\"c\", {\"color\": \"blue\"})\n",
    "])\n",
    "\n",
    "H.add_edges_from(HE)\n",
    "\n",
    "subax1 = plt.subplot(121)\n",
    "nx.draw(G, with_labels=True, font_weight='bold')\n",
    "subax2 = plt.subplot(122)\n",
    "nx.draw_spectral(H, with_labels=True, font_weight='bold')"
   ]
  },
  {
   "attachments": {},
   "cell_type": "markdown",
   "metadata": {},
   "source": [
    "The graphs are examined first with the two conditions: the same number of edges, and the same number of nodes"
   ]
  },
  {
   "cell_type": "code",
   "execution_count": 2,
   "metadata": {},
   "outputs": [
    {
     "data": {
      "text/plain": [
       "True"
      ]
     },
     "execution_count": 2,
     "metadata": {},
     "output_type": "execute_result"
    }
   ],
   "source": [
    "# Same number of nodes\n",
    "len(list(G.nodes)) == len(list(H.nodes))"
   ]
  },
  {
   "cell_type": "code",
   "execution_count": 3,
   "metadata": {},
   "outputs": [
    {
     "data": {
      "text/plain": [
       "True"
      ]
     },
     "execution_count": 3,
     "metadata": {},
     "output_type": "execute_result"
    }
   ],
   "source": [
    "# Same number of edges\n",
    "len(list(G.edges)) == len(list(H.edges))"
   ]
  },
  {
   "attachments": {},
   "cell_type": "markdown",
   "metadata": {},
   "source": [
    "As seen in those code above, the nodes and edges have the same numbers of nodes and edges. With this, we can move on to determining the isomorphic nature via analysing each combination of the graphs relationship."
   ]
  },
  {
   "cell_type": "code",
   "execution_count": 35,
   "metadata": {},
   "outputs": [
    {
     "data": {
      "text/plain": [
       "[('a', 'b', 'c', 'd', 'e'),\n",
       " ('a', 'b', 'c', 'e', 'd'),\n",
       " ('a', 'b', 'd', 'c', 'e'),\n",
       " ('a', 'b', 'd', 'e', 'c'),\n",
       " ('a', 'b', 'e', 'c', 'd'),\n",
       " ('a', 'b', 'e', 'd', 'c'),\n",
       " ('a', 'c', 'b', 'd', 'e'),\n",
       " ('a', 'c', 'b', 'e', 'd'),\n",
       " ('a', 'c', 'd', 'b', 'e'),\n",
       " ('a', 'c', 'd', 'e', 'b'),\n",
       " ('a', 'c', 'e', 'b', 'd'),\n",
       " ('a', 'c', 'e', 'd', 'b'),\n",
       " ('a', 'd', 'b', 'c', 'e'),\n",
       " ('a', 'd', 'b', 'e', 'c'),\n",
       " ('a', 'd', 'c', 'b', 'e'),\n",
       " ('a', 'd', 'c', 'e', 'b'),\n",
       " ('a', 'd', 'e', 'b', 'c'),\n",
       " ('a', 'd', 'e', 'c', 'b'),\n",
       " ('a', 'e', 'b', 'c', 'd'),\n",
       " ('a', 'e', 'b', 'd', 'c'),\n",
       " ('a', 'e', 'c', 'b', 'd'),\n",
       " ('a', 'e', 'c', 'd', 'b'),\n",
       " ('a', 'e', 'd', 'b', 'c'),\n",
       " ('a', 'e', 'd', 'c', 'b'),\n",
       " ('b', 'a', 'c', 'd', 'e'),\n",
       " ('b', 'a', 'c', 'e', 'd'),\n",
       " ('b', 'a', 'd', 'c', 'e'),\n",
       " ('b', 'a', 'd', 'e', 'c'),\n",
       " ('b', 'a', 'e', 'c', 'd'),\n",
       " ('b', 'a', 'e', 'd', 'c'),\n",
       " ('b', 'c', 'a', 'd', 'e'),\n",
       " ('b', 'c', 'a', 'e', 'd'),\n",
       " ('b', 'c', 'd', 'a', 'e'),\n",
       " ('b', 'c', 'd', 'e', 'a'),\n",
       " ('b', 'c', 'e', 'a', 'd'),\n",
       " ('b', 'c', 'e', 'd', 'a'),\n",
       " ('b', 'd', 'a', 'c', 'e'),\n",
       " ('b', 'd', 'a', 'e', 'c'),\n",
       " ('b', 'd', 'c', 'a', 'e'),\n",
       " ('b', 'd', 'c', 'e', 'a'),\n",
       " ('b', 'd', 'e', 'a', 'c'),\n",
       " ('b', 'd', 'e', 'c', 'a'),\n",
       " ('b', 'e', 'a', 'c', 'd'),\n",
       " ('b', 'e', 'a', 'd', 'c'),\n",
       " ('b', 'e', 'c', 'a', 'd'),\n",
       " ('b', 'e', 'c', 'd', 'a'),\n",
       " ('b', 'e', 'd', 'a', 'c'),\n",
       " ('b', 'e', 'd', 'c', 'a'),\n",
       " ('c', 'a', 'b', 'd', 'e'),\n",
       " ('c', 'a', 'b', 'e', 'd'),\n",
       " ('c', 'a', 'd', 'b', 'e'),\n",
       " ('c', 'a', 'd', 'e', 'b'),\n",
       " ('c', 'a', 'e', 'b', 'd'),\n",
       " ('c', 'a', 'e', 'd', 'b'),\n",
       " ('c', 'b', 'a', 'd', 'e'),\n",
       " ('c', 'b', 'a', 'e', 'd'),\n",
       " ('c', 'b', 'd', 'a', 'e'),\n",
       " ('c', 'b', 'd', 'e', 'a'),\n",
       " ('c', 'b', 'e', 'a', 'd'),\n",
       " ('c', 'b', 'e', 'd', 'a'),\n",
       " ('c', 'd', 'a', 'b', 'e'),\n",
       " ('c', 'd', 'a', 'e', 'b'),\n",
       " ('c', 'd', 'b', 'a', 'e'),\n",
       " ('c', 'd', 'b', 'e', 'a'),\n",
       " ('c', 'd', 'e', 'a', 'b'),\n",
       " ('c', 'd', 'e', 'b', 'a'),\n",
       " ('c', 'e', 'a', 'b', 'd'),\n",
       " ('c', 'e', 'a', 'd', 'b'),\n",
       " ('c', 'e', 'b', 'a', 'd'),\n",
       " ('c', 'e', 'b', 'd', 'a'),\n",
       " ('c', 'e', 'd', 'a', 'b'),\n",
       " ('c', 'e', 'd', 'b', 'a'),\n",
       " ('d', 'a', 'b', 'c', 'e'),\n",
       " ('d', 'a', 'b', 'e', 'c'),\n",
       " ('d', 'a', 'c', 'b', 'e'),\n",
       " ('d', 'a', 'c', 'e', 'b'),\n",
       " ('d', 'a', 'e', 'b', 'c'),\n",
       " ('d', 'a', 'e', 'c', 'b'),\n",
       " ('d', 'b', 'a', 'c', 'e'),\n",
       " ('d', 'b', 'a', 'e', 'c'),\n",
       " ('d', 'b', 'c', 'a', 'e'),\n",
       " ('d', 'b', 'c', 'e', 'a'),\n",
       " ('d', 'b', 'e', 'a', 'c'),\n",
       " ('d', 'b', 'e', 'c', 'a'),\n",
       " ('d', 'c', 'a', 'b', 'e'),\n",
       " ('d', 'c', 'a', 'e', 'b'),\n",
       " ('d', 'c', 'b', 'a', 'e'),\n",
       " ('d', 'c', 'b', 'e', 'a'),\n",
       " ('d', 'c', 'e', 'a', 'b'),\n",
       " ('d', 'c', 'e', 'b', 'a'),\n",
       " ('d', 'e', 'a', 'b', 'c'),\n",
       " ('d', 'e', 'a', 'c', 'b'),\n",
       " ('d', 'e', 'b', 'a', 'c'),\n",
       " ('d', 'e', 'b', 'c', 'a'),\n",
       " ('d', 'e', 'c', 'a', 'b'),\n",
       " ('d', 'e', 'c', 'b', 'a'),\n",
       " ('e', 'a', 'b', 'c', 'd'),\n",
       " ('e', 'a', 'b', 'd', 'c'),\n",
       " ('e', 'a', 'c', 'b', 'd'),\n",
       " ('e', 'a', 'c', 'd', 'b'),\n",
       " ('e', 'a', 'd', 'b', 'c'),\n",
       " ('e', 'a', 'd', 'c', 'b'),\n",
       " ('e', 'b', 'a', 'c', 'd'),\n",
       " ('e', 'b', 'a', 'd', 'c'),\n",
       " ('e', 'b', 'c', 'a', 'd'),\n",
       " ('e', 'b', 'c', 'd', 'a'),\n",
       " ('e', 'b', 'd', 'a', 'c'),\n",
       " ('e', 'b', 'd', 'c', 'a'),\n",
       " ('e', 'c', 'a', 'b', 'd'),\n",
       " ('e', 'c', 'a', 'd', 'b'),\n",
       " ('e', 'c', 'b', 'a', 'd'),\n",
       " ('e', 'c', 'b', 'd', 'a'),\n",
       " ('e', 'c', 'd', 'a', 'b'),\n",
       " ('e', 'c', 'd', 'b', 'a'),\n",
       " ('e', 'd', 'a', 'b', 'c'),\n",
       " ('e', 'd', 'a', 'c', 'b'),\n",
       " ('e', 'd', 'b', 'a', 'c'),\n",
       " ('e', 'd', 'b', 'c', 'a'),\n",
       " ('e', 'd', 'c', 'a', 'b'),\n",
       " ('e', 'd', 'c', 'b', 'a')]"
      ]
     },
     "execution_count": 35,
     "metadata": {},
     "output_type": "execute_result"
    }
   ],
   "source": [
    "import itertools as it\n",
    "\n",
    "# Firstly, we will need to get all the permutations of another graph, in this case, H.\n",
    "HP = list(it.permutations(list(H.nodes),len(H.nodes)))\n",
    "\n",
    "HP"
   ]
  },
  {
   "cell_type": "code",
   "execution_count": 36,
   "metadata": {},
   "outputs": [
    {
     "data": {
      "text/plain": [
       "[{'a': 1, 'b': 2, 'c': 3, 'd': 4, 'e': 5},\n",
       " {'a': 1, 'b': 2, 'c': 3, 'e': 4, 'd': 5},\n",
       " {'a': 1, 'b': 2, 'd': 3, 'c': 4, 'e': 5},\n",
       " {'a': 1, 'b': 2, 'd': 3, 'e': 4, 'c': 5},\n",
       " {'a': 1, 'b': 2, 'e': 3, 'c': 4, 'd': 5},\n",
       " {'a': 1, 'b': 2, 'e': 3, 'd': 4, 'c': 5},\n",
       " {'a': 1, 'c': 2, 'b': 3, 'd': 4, 'e': 5},\n",
       " {'a': 1, 'c': 2, 'b': 3, 'e': 4, 'd': 5},\n",
       " {'a': 1, 'c': 2, 'd': 3, 'b': 4, 'e': 5},\n",
       " {'a': 1, 'c': 2, 'd': 3, 'e': 4, 'b': 5},\n",
       " {'a': 1, 'c': 2, 'e': 3, 'b': 4, 'd': 5},\n",
       " {'a': 1, 'c': 2, 'e': 3, 'd': 4, 'b': 5},\n",
       " {'a': 1, 'd': 2, 'b': 3, 'c': 4, 'e': 5},\n",
       " {'a': 1, 'd': 2, 'b': 3, 'e': 4, 'c': 5},\n",
       " {'a': 1, 'd': 2, 'c': 3, 'b': 4, 'e': 5},\n",
       " {'a': 1, 'd': 2, 'c': 3, 'e': 4, 'b': 5},\n",
       " {'a': 1, 'd': 2, 'e': 3, 'b': 4, 'c': 5},\n",
       " {'a': 1, 'd': 2, 'e': 3, 'c': 4, 'b': 5},\n",
       " {'a': 1, 'e': 2, 'b': 3, 'c': 4, 'd': 5},\n",
       " {'a': 1, 'e': 2, 'b': 3, 'd': 4, 'c': 5},\n",
       " {'a': 1, 'e': 2, 'c': 3, 'b': 4, 'd': 5},\n",
       " {'a': 1, 'e': 2, 'c': 3, 'd': 4, 'b': 5},\n",
       " {'a': 1, 'e': 2, 'd': 3, 'b': 4, 'c': 5},\n",
       " {'a': 1, 'e': 2, 'd': 3, 'c': 4, 'b': 5},\n",
       " {'b': 1, 'a': 2, 'c': 3, 'd': 4, 'e': 5},\n",
       " {'b': 1, 'a': 2, 'c': 3, 'e': 4, 'd': 5},\n",
       " {'b': 1, 'a': 2, 'd': 3, 'c': 4, 'e': 5},\n",
       " {'b': 1, 'a': 2, 'd': 3, 'e': 4, 'c': 5},\n",
       " {'b': 1, 'a': 2, 'e': 3, 'c': 4, 'd': 5},\n",
       " {'b': 1, 'a': 2, 'e': 3, 'd': 4, 'c': 5},\n",
       " {'b': 1, 'c': 2, 'a': 3, 'd': 4, 'e': 5},\n",
       " {'b': 1, 'c': 2, 'a': 3, 'e': 4, 'd': 5},\n",
       " {'b': 1, 'c': 2, 'd': 3, 'a': 4, 'e': 5},\n",
       " {'b': 1, 'c': 2, 'd': 3, 'e': 4, 'a': 5},\n",
       " {'b': 1, 'c': 2, 'e': 3, 'a': 4, 'd': 5},\n",
       " {'b': 1, 'c': 2, 'e': 3, 'd': 4, 'a': 5},\n",
       " {'b': 1, 'd': 2, 'a': 3, 'c': 4, 'e': 5},\n",
       " {'b': 1, 'd': 2, 'a': 3, 'e': 4, 'c': 5},\n",
       " {'b': 1, 'd': 2, 'c': 3, 'a': 4, 'e': 5},\n",
       " {'b': 1, 'd': 2, 'c': 3, 'e': 4, 'a': 5},\n",
       " {'b': 1, 'd': 2, 'e': 3, 'a': 4, 'c': 5},\n",
       " {'b': 1, 'd': 2, 'e': 3, 'c': 4, 'a': 5},\n",
       " {'b': 1, 'e': 2, 'a': 3, 'c': 4, 'd': 5},\n",
       " {'b': 1, 'e': 2, 'a': 3, 'd': 4, 'c': 5},\n",
       " {'b': 1, 'e': 2, 'c': 3, 'a': 4, 'd': 5},\n",
       " {'b': 1, 'e': 2, 'c': 3, 'd': 4, 'a': 5},\n",
       " {'b': 1, 'e': 2, 'd': 3, 'a': 4, 'c': 5},\n",
       " {'b': 1, 'e': 2, 'd': 3, 'c': 4, 'a': 5},\n",
       " {'c': 1, 'a': 2, 'b': 3, 'd': 4, 'e': 5},\n",
       " {'c': 1, 'a': 2, 'b': 3, 'e': 4, 'd': 5},\n",
       " {'c': 1, 'a': 2, 'd': 3, 'b': 4, 'e': 5},\n",
       " {'c': 1, 'a': 2, 'd': 3, 'e': 4, 'b': 5},\n",
       " {'c': 1, 'a': 2, 'e': 3, 'b': 4, 'd': 5},\n",
       " {'c': 1, 'a': 2, 'e': 3, 'd': 4, 'b': 5},\n",
       " {'c': 1, 'b': 2, 'a': 3, 'd': 4, 'e': 5},\n",
       " {'c': 1, 'b': 2, 'a': 3, 'e': 4, 'd': 5},\n",
       " {'c': 1, 'b': 2, 'd': 3, 'a': 4, 'e': 5},\n",
       " {'c': 1, 'b': 2, 'd': 3, 'e': 4, 'a': 5},\n",
       " {'c': 1, 'b': 2, 'e': 3, 'a': 4, 'd': 5},\n",
       " {'c': 1, 'b': 2, 'e': 3, 'd': 4, 'a': 5},\n",
       " {'c': 1, 'd': 2, 'a': 3, 'b': 4, 'e': 5},\n",
       " {'c': 1, 'd': 2, 'a': 3, 'e': 4, 'b': 5},\n",
       " {'c': 1, 'd': 2, 'b': 3, 'a': 4, 'e': 5},\n",
       " {'c': 1, 'd': 2, 'b': 3, 'e': 4, 'a': 5},\n",
       " {'c': 1, 'd': 2, 'e': 3, 'a': 4, 'b': 5},\n",
       " {'c': 1, 'd': 2, 'e': 3, 'b': 4, 'a': 5},\n",
       " {'c': 1, 'e': 2, 'a': 3, 'b': 4, 'd': 5},\n",
       " {'c': 1, 'e': 2, 'a': 3, 'd': 4, 'b': 5},\n",
       " {'c': 1, 'e': 2, 'b': 3, 'a': 4, 'd': 5},\n",
       " {'c': 1, 'e': 2, 'b': 3, 'd': 4, 'a': 5},\n",
       " {'c': 1, 'e': 2, 'd': 3, 'a': 4, 'b': 5},\n",
       " {'c': 1, 'e': 2, 'd': 3, 'b': 4, 'a': 5},\n",
       " {'d': 1, 'a': 2, 'b': 3, 'c': 4, 'e': 5},\n",
       " {'d': 1, 'a': 2, 'b': 3, 'e': 4, 'c': 5},\n",
       " {'d': 1, 'a': 2, 'c': 3, 'b': 4, 'e': 5},\n",
       " {'d': 1, 'a': 2, 'c': 3, 'e': 4, 'b': 5},\n",
       " {'d': 1, 'a': 2, 'e': 3, 'b': 4, 'c': 5},\n",
       " {'d': 1, 'a': 2, 'e': 3, 'c': 4, 'b': 5},\n",
       " {'d': 1, 'b': 2, 'a': 3, 'c': 4, 'e': 5},\n",
       " {'d': 1, 'b': 2, 'a': 3, 'e': 4, 'c': 5},\n",
       " {'d': 1, 'b': 2, 'c': 3, 'a': 4, 'e': 5},\n",
       " {'d': 1, 'b': 2, 'c': 3, 'e': 4, 'a': 5},\n",
       " {'d': 1, 'b': 2, 'e': 3, 'a': 4, 'c': 5},\n",
       " {'d': 1, 'b': 2, 'e': 3, 'c': 4, 'a': 5},\n",
       " {'d': 1, 'c': 2, 'a': 3, 'b': 4, 'e': 5},\n",
       " {'d': 1, 'c': 2, 'a': 3, 'e': 4, 'b': 5},\n",
       " {'d': 1, 'c': 2, 'b': 3, 'a': 4, 'e': 5},\n",
       " {'d': 1, 'c': 2, 'b': 3, 'e': 4, 'a': 5},\n",
       " {'d': 1, 'c': 2, 'e': 3, 'a': 4, 'b': 5},\n",
       " {'d': 1, 'c': 2, 'e': 3, 'b': 4, 'a': 5},\n",
       " {'d': 1, 'e': 2, 'a': 3, 'b': 4, 'c': 5},\n",
       " {'d': 1, 'e': 2, 'a': 3, 'c': 4, 'b': 5},\n",
       " {'d': 1, 'e': 2, 'b': 3, 'a': 4, 'c': 5},\n",
       " {'d': 1, 'e': 2, 'b': 3, 'c': 4, 'a': 5},\n",
       " {'d': 1, 'e': 2, 'c': 3, 'a': 4, 'b': 5},\n",
       " {'d': 1, 'e': 2, 'c': 3, 'b': 4, 'a': 5},\n",
       " {'e': 1, 'a': 2, 'b': 3, 'c': 4, 'd': 5},\n",
       " {'e': 1, 'a': 2, 'b': 3, 'd': 4, 'c': 5},\n",
       " {'e': 1, 'a': 2, 'c': 3, 'b': 4, 'd': 5},\n",
       " {'e': 1, 'a': 2, 'c': 3, 'd': 4, 'b': 5},\n",
       " {'e': 1, 'a': 2, 'd': 3, 'b': 4, 'c': 5},\n",
       " {'e': 1, 'a': 2, 'd': 3, 'c': 4, 'b': 5},\n",
       " {'e': 1, 'b': 2, 'a': 3, 'c': 4, 'd': 5},\n",
       " {'e': 1, 'b': 2, 'a': 3, 'd': 4, 'c': 5},\n",
       " {'e': 1, 'b': 2, 'c': 3, 'a': 4, 'd': 5},\n",
       " {'e': 1, 'b': 2, 'c': 3, 'd': 4, 'a': 5},\n",
       " {'e': 1, 'b': 2, 'd': 3, 'a': 4, 'c': 5},\n",
       " {'e': 1, 'b': 2, 'd': 3, 'c': 4, 'a': 5},\n",
       " {'e': 1, 'c': 2, 'a': 3, 'b': 4, 'd': 5},\n",
       " {'e': 1, 'c': 2, 'a': 3, 'd': 4, 'b': 5},\n",
       " {'e': 1, 'c': 2, 'b': 3, 'a': 4, 'd': 5},\n",
       " {'e': 1, 'c': 2, 'b': 3, 'd': 4, 'a': 5},\n",
       " {'e': 1, 'c': 2, 'd': 3, 'a': 4, 'b': 5},\n",
       " {'e': 1, 'c': 2, 'd': 3, 'b': 4, 'a': 5},\n",
       " {'e': 1, 'd': 2, 'a': 3, 'b': 4, 'c': 5},\n",
       " {'e': 1, 'd': 2, 'a': 3, 'c': 4, 'b': 5},\n",
       " {'e': 1, 'd': 2, 'b': 3, 'a': 4, 'c': 5},\n",
       " {'e': 1, 'd': 2, 'b': 3, 'c': 4, 'a': 5},\n",
       " {'e': 1, 'd': 2, 'c': 3, 'a': 4, 'b': 5},\n",
       " {'e': 1, 'd': 2, 'c': 3, 'b': 4, 'a': 5}]"
      ]
     },
     "execution_count": 36,
     "metadata": {},
     "output_type": "execute_result"
    }
   ],
   "source": [
    "# Then, map each permutation with the nodes from the previous graph, G\n",
    "def get_dictionary_permutation(permutation):\n",
    "    for i in range(len(permutation)):\n",
    "        permutation[i] = dict(zip(permutation[i],G.nodes))\n",
    "    return permutation\n",
    "\n",
    "HP = get_dictionary_permutation(HP)\n",
    "HP"
   ]
  },
  {
   "cell_type": "code",
   "execution_count": 37,
   "metadata": {},
   "outputs": [
    {
     "data": {
      "text/plain": [
       "[[(1, 2), (2, 5), (2, 4), (1, 3), (3, 4), (1, 5), (4, 5)],\n",
       " [(1, 2), (2, 4), (2, 5), (1, 3), (3, 5), (1, 4), (5, 4)],\n",
       " [(1, 2), (2, 5), (2, 3), (1, 4), (4, 3), (1, 5), (3, 5)],\n",
       " [(1, 2), (2, 4), (2, 3), (1, 5), (5, 3), (1, 4), (3, 4)],\n",
       " [(1, 2), (2, 3), (2, 5), (1, 4), (4, 5), (1, 3), (5, 3)],\n",
       " [(1, 2), (2, 3), (2, 4), (1, 5), (5, 4), (1, 3), (4, 3)],\n",
       " [(1, 3), (3, 5), (3, 4), (1, 2), (2, 4), (1, 5), (4, 5)],\n",
       " [(1, 3), (3, 4), (3, 5), (1, 2), (2, 5), (1, 4), (5, 4)],\n",
       " [(1, 4), (4, 5), (4, 3), (1, 2), (2, 3), (1, 5), (3, 5)],\n",
       " [(1, 5), (5, 4), (5, 3), (1, 2), (2, 3), (1, 4), (3, 4)],\n",
       " [(1, 4), (4, 3), (4, 5), (1, 2), (2, 5), (1, 3), (5, 3)],\n",
       " [(1, 5), (5, 3), (5, 4), (1, 2), (2, 4), (1, 3), (4, 3)],\n",
       " [(1, 3), (3, 5), (3, 2), (1, 4), (4, 2), (1, 5), (2, 5)],\n",
       " [(1, 3), (3, 4), (3, 2), (1, 5), (5, 2), (1, 4), (2, 4)],\n",
       " [(1, 4), (4, 5), (4, 2), (1, 3), (3, 2), (1, 5), (2, 5)],\n",
       " [(1, 5), (5, 4), (5, 2), (1, 3), (3, 2), (1, 4), (2, 4)],\n",
       " [(1, 4), (4, 3), (4, 2), (1, 5), (5, 2), (1, 3), (2, 3)],\n",
       " [(1, 5), (5, 3), (5, 2), (1, 4), (4, 2), (1, 3), (2, 3)],\n",
       " [(1, 3), (3, 2), (3, 5), (1, 4), (4, 5), (1, 2), (5, 2)],\n",
       " [(1, 3), (3, 2), (3, 4), (1, 5), (5, 4), (1, 2), (4, 2)],\n",
       " [(1, 4), (4, 2), (4, 5), (1, 3), (3, 5), (1, 2), (5, 2)],\n",
       " [(1, 5), (5, 2), (5, 4), (1, 3), (3, 4), (1, 2), (4, 2)],\n",
       " [(1, 4), (4, 2), (4, 3), (1, 5), (5, 3), (1, 2), (3, 2)],\n",
       " [(1, 5), (5, 2), (5, 3), (1, 4), (4, 3), (1, 2), (3, 2)],\n",
       " [(2, 1), (1, 5), (1, 4), (2, 3), (3, 4), (2, 5), (4, 5)],\n",
       " [(2, 1), (1, 4), (1, 5), (2, 3), (3, 5), (2, 4), (5, 4)],\n",
       " [(2, 1), (1, 5), (1, 3), (2, 4), (4, 3), (2, 5), (3, 5)],\n",
       " [(2, 1), (1, 4), (1, 3), (2, 5), (5, 3), (2, 4), (3, 4)],\n",
       " [(2, 1), (1, 3), (1, 5), (2, 4), (4, 5), (2, 3), (5, 3)],\n",
       " [(2, 1), (1, 3), (1, 4), (2, 5), (5, 4), (2, 3), (4, 3)],\n",
       " [(3, 1), (1, 5), (1, 4), (3, 2), (2, 4), (3, 5), (4, 5)],\n",
       " [(3, 1), (1, 4), (1, 5), (3, 2), (2, 5), (3, 4), (5, 4)],\n",
       " [(4, 1), (1, 5), (1, 3), (4, 2), (2, 3), (4, 5), (3, 5)],\n",
       " [(5, 1), (1, 4), (1, 3), (5, 2), (2, 3), (5, 4), (3, 4)],\n",
       " [(4, 1), (1, 3), (1, 5), (4, 2), (2, 5), (4, 3), (5, 3)],\n",
       " [(5, 1), (1, 3), (1, 4), (5, 2), (2, 4), (5, 3), (4, 3)],\n",
       " [(3, 1), (1, 5), (1, 2), (3, 4), (4, 2), (3, 5), (2, 5)],\n",
       " [(3, 1), (1, 4), (1, 2), (3, 5), (5, 2), (3, 4), (2, 4)],\n",
       " [(4, 1), (1, 5), (1, 2), (4, 3), (3, 2), (4, 5), (2, 5)],\n",
       " [(5, 1), (1, 4), (1, 2), (5, 3), (3, 2), (5, 4), (2, 4)],\n",
       " [(4, 1), (1, 3), (1, 2), (4, 5), (5, 2), (4, 3), (2, 3)],\n",
       " [(5, 1), (1, 3), (1, 2), (5, 4), (4, 2), (5, 3), (2, 3)],\n",
       " [(3, 1), (1, 2), (1, 5), (3, 4), (4, 5), (3, 2), (5, 2)],\n",
       " [(3, 1), (1, 2), (1, 4), (3, 5), (5, 4), (3, 2), (4, 2)],\n",
       " [(4, 1), (1, 2), (1, 5), (4, 3), (3, 5), (4, 2), (5, 2)],\n",
       " [(5, 1), (1, 2), (1, 4), (5, 3), (3, 4), (5, 2), (4, 2)],\n",
       " [(4, 1), (1, 2), (1, 3), (4, 5), (5, 3), (4, 2), (3, 2)],\n",
       " [(5, 1), (1, 2), (1, 3), (5, 4), (4, 3), (5, 2), (3, 2)],\n",
       " [(2, 3), (3, 5), (3, 4), (2, 1), (1, 4), (2, 5), (4, 5)],\n",
       " [(2, 3), (3, 4), (3, 5), (2, 1), (1, 5), (2, 4), (5, 4)],\n",
       " [(2, 4), (4, 5), (4, 3), (2, 1), (1, 3), (2, 5), (3, 5)],\n",
       " [(2, 5), (5, 4), (5, 3), (2, 1), (1, 3), (2, 4), (3, 4)],\n",
       " [(2, 4), (4, 3), (4, 5), (2, 1), (1, 5), (2, 3), (5, 3)],\n",
       " [(2, 5), (5, 3), (5, 4), (2, 1), (1, 4), (2, 3), (4, 3)],\n",
       " [(3, 2), (2, 5), (2, 4), (3, 1), (1, 4), (3, 5), (4, 5)],\n",
       " [(3, 2), (2, 4), (2, 5), (3, 1), (1, 5), (3, 4), (5, 4)],\n",
       " [(4, 2), (2, 5), (2, 3), (4, 1), (1, 3), (4, 5), (3, 5)],\n",
       " [(5, 2), (2, 4), (2, 3), (5, 1), (1, 3), (5, 4), (3, 4)],\n",
       " [(4, 2), (2, 3), (2, 5), (4, 1), (1, 5), (4, 3), (5, 3)],\n",
       " [(5, 2), (2, 3), (2, 4), (5, 1), (1, 4), (5, 3), (4, 3)],\n",
       " [(3, 4), (4, 5), (4, 2), (3, 1), (1, 2), (3, 5), (2, 5)],\n",
       " [(3, 5), (5, 4), (5, 2), (3, 1), (1, 2), (3, 4), (2, 4)],\n",
       " [(4, 3), (3, 5), (3, 2), (4, 1), (1, 2), (4, 5), (2, 5)],\n",
       " [(5, 3), (3, 4), (3, 2), (5, 1), (1, 2), (5, 4), (2, 4)],\n",
       " [(4, 5), (5, 3), (5, 2), (4, 1), (1, 2), (4, 3), (2, 3)],\n",
       " [(5, 4), (4, 3), (4, 2), (5, 1), (1, 2), (5, 3), (2, 3)],\n",
       " [(3, 4), (4, 2), (4, 5), (3, 1), (1, 5), (3, 2), (5, 2)],\n",
       " [(3, 5), (5, 2), (5, 4), (3, 1), (1, 4), (3, 2), (4, 2)],\n",
       " [(4, 3), (3, 2), (3, 5), (4, 1), (1, 5), (4, 2), (5, 2)],\n",
       " [(5, 3), (3, 2), (3, 4), (5, 1), (1, 4), (5, 2), (4, 2)],\n",
       " [(4, 5), (5, 2), (5, 3), (4, 1), (1, 3), (4, 2), (3, 2)],\n",
       " [(5, 4), (4, 2), (4, 3), (5, 1), (1, 3), (5, 2), (3, 2)],\n",
       " [(2, 3), (3, 5), (3, 1), (2, 4), (4, 1), (2, 5), (1, 5)],\n",
       " [(2, 3), (3, 4), (3, 1), (2, 5), (5, 1), (2, 4), (1, 4)],\n",
       " [(2, 4), (4, 5), (4, 1), (2, 3), (3, 1), (2, 5), (1, 5)],\n",
       " [(2, 5), (5, 4), (5, 1), (2, 3), (3, 1), (2, 4), (1, 4)],\n",
       " [(2, 4), (4, 3), (4, 1), (2, 5), (5, 1), (2, 3), (1, 3)],\n",
       " [(2, 5), (5, 3), (5, 1), (2, 4), (4, 1), (2, 3), (1, 3)],\n",
       " [(3, 2), (2, 5), (2, 1), (3, 4), (4, 1), (3, 5), (1, 5)],\n",
       " [(3, 2), (2, 4), (2, 1), (3, 5), (5, 1), (3, 4), (1, 4)],\n",
       " [(4, 2), (2, 5), (2, 1), (4, 3), (3, 1), (4, 5), (1, 5)],\n",
       " [(5, 2), (2, 4), (2, 1), (5, 3), (3, 1), (5, 4), (1, 4)],\n",
       " [(4, 2), (2, 3), (2, 1), (4, 5), (5, 1), (4, 3), (1, 3)],\n",
       " [(5, 2), (2, 3), (2, 1), (5, 4), (4, 1), (5, 3), (1, 3)],\n",
       " [(3, 4), (4, 5), (4, 1), (3, 2), (2, 1), (3, 5), (1, 5)],\n",
       " [(3, 5), (5, 4), (5, 1), (3, 2), (2, 1), (3, 4), (1, 4)],\n",
       " [(4, 3), (3, 5), (3, 1), (4, 2), (2, 1), (4, 5), (1, 5)],\n",
       " [(5, 3), (3, 4), (3, 1), (5, 2), (2, 1), (5, 4), (1, 4)],\n",
       " [(4, 5), (5, 3), (5, 1), (4, 2), (2, 1), (4, 3), (1, 3)],\n",
       " [(5, 4), (4, 3), (4, 1), (5, 2), (2, 1), (5, 3), (1, 3)],\n",
       " [(3, 4), (4, 2), (4, 1), (3, 5), (5, 1), (3, 2), (1, 2)],\n",
       " [(3, 5), (5, 2), (5, 1), (3, 4), (4, 1), (3, 2), (1, 2)],\n",
       " [(4, 3), (3, 2), (3, 1), (4, 5), (5, 1), (4, 2), (1, 2)],\n",
       " [(5, 3), (3, 2), (3, 1), (5, 4), (4, 1), (5, 2), (1, 2)],\n",
       " [(4, 5), (5, 2), (5, 1), (4, 3), (3, 1), (4, 2), (1, 2)],\n",
       " [(5, 4), (4, 2), (4, 1), (5, 3), (3, 1), (5, 2), (1, 2)],\n",
       " [(2, 3), (3, 1), (3, 5), (2, 4), (4, 5), (2, 1), (5, 1)],\n",
       " [(2, 3), (3, 1), (3, 4), (2, 5), (5, 4), (2, 1), (4, 1)],\n",
       " [(2, 4), (4, 1), (4, 5), (2, 3), (3, 5), (2, 1), (5, 1)],\n",
       " [(2, 5), (5, 1), (5, 4), (2, 3), (3, 4), (2, 1), (4, 1)],\n",
       " [(2, 4), (4, 1), (4, 3), (2, 5), (5, 3), (2, 1), (3, 1)],\n",
       " [(2, 5), (5, 1), (5, 3), (2, 4), (4, 3), (2, 1), (3, 1)],\n",
       " [(3, 2), (2, 1), (2, 5), (3, 4), (4, 5), (3, 1), (5, 1)],\n",
       " [(3, 2), (2, 1), (2, 4), (3, 5), (5, 4), (3, 1), (4, 1)],\n",
       " [(4, 2), (2, 1), (2, 5), (4, 3), (3, 5), (4, 1), (5, 1)],\n",
       " [(5, 2), (2, 1), (2, 4), (5, 3), (3, 4), (5, 1), (4, 1)],\n",
       " [(4, 2), (2, 1), (2, 3), (4, 5), (5, 3), (4, 1), (3, 1)],\n",
       " [(5, 2), (2, 1), (2, 3), (5, 4), (4, 3), (5, 1), (3, 1)],\n",
       " [(3, 4), (4, 1), (4, 5), (3, 2), (2, 5), (3, 1), (5, 1)],\n",
       " [(3, 5), (5, 1), (5, 4), (3, 2), (2, 4), (3, 1), (4, 1)],\n",
       " [(4, 3), (3, 1), (3, 5), (4, 2), (2, 5), (4, 1), (5, 1)],\n",
       " [(5, 3), (3, 1), (3, 4), (5, 2), (2, 4), (5, 1), (4, 1)],\n",
       " [(4, 5), (5, 1), (5, 3), (4, 2), (2, 3), (4, 1), (3, 1)],\n",
       " [(5, 4), (4, 1), (4, 3), (5, 2), (2, 3), (5, 1), (3, 1)],\n",
       " [(3, 4), (4, 1), (4, 2), (3, 5), (5, 2), (3, 1), (2, 1)],\n",
       " [(3, 5), (5, 1), (5, 2), (3, 4), (4, 2), (3, 1), (2, 1)],\n",
       " [(4, 3), (3, 1), (3, 2), (4, 5), (5, 2), (4, 1), (2, 1)],\n",
       " [(5, 3), (3, 1), (3, 2), (5, 4), (4, 2), (5, 1), (2, 1)],\n",
       " [(4, 5), (5, 1), (5, 2), (4, 3), (3, 2), (4, 1), (2, 1)],\n",
       " [(5, 4), (4, 1), (4, 2), (5, 3), (3, 2), (5, 1), (2, 1)]]"
      ]
     },
     "execution_count": 37,
     "metadata": {},
     "output_type": "execute_result"
    }
   ],
   "source": [
    "# After which, subsitute the edges for each possible permutations with the ones from dictionary above\n",
    "def get_final_permutations(permutation, edge):\n",
    "    final_list = list()\n",
    "    for i in range(len(permutation)): # Run through each permutation\n",
    "        permutation_tuple = list()\n",
    "        for j in range(len(edge)): # Run through each edge\n",
    "            permutation_each = list()\n",
    "            for k in range(len(edge[j])): # For each node in an edge\n",
    "                permutation_each.append(permutation[i][edge[j][k]]) # Subsitute graph H with Graph G\n",
    "            permutation_tuple.append(tuple(permutation_each))\n",
    "        final_list.append(permutation_tuple)\n",
    "    return final_list\n",
    "\n",
    "HR = get_final_permutations(HP, HE)\n",
    "HR"
   ]
  },
  {
   "cell_type": "code",
   "execution_count": 38,
   "metadata": {},
   "outputs": [
    {
     "name": "stdout",
     "output_type": "stream",
     "text": [
      "Isomorphism found.\n"
     ]
    }
   ],
   "source": [
    "# Compare each edges for each permutation to the one in the previous graph (G)\n",
    "def check_bijections_isomorphism(final_permutation, other_edge):\n",
    "    for i in range(len(final_permutation)):\n",
    "        if (final_permutation[i] == other_edge): # If a permutation of edges is the same as with the previous graph's edges, print out the message\n",
    "            print(\"Isomorphism found.\")\n",
    "            break\n",
    "        elif (i == len(final_permutation)-1):\n",
    "            print(\"Isomorphism not found.\")\n",
    "\n",
    "check_bijections_isomorphism(HR, GE)"
   ]
  },
  {
   "attachments": {},
   "cell_type": "markdown",
   "metadata": {},
   "source": [
    "As seen above, graph isomorphism is found in a relatively simple graph. Here's a more complicated example, with more edges, and more nodes:"
   ]
  },
  {
   "cell_type": "code",
   "execution_count": 28,
   "metadata": {},
   "outputs": [
    {
     "data": {
      "image/png": "[encoded data removed]",
      "text/plain": [
       "<Figure size 640x480 with 2 Axes>"
      ]
     },
     "metadata": {},
     "output_type": "display_data"
    }
   ],
   "source": [
    "# First Graph\n",
    "G = nx.Graph()\n",
    "GE = [(1, 2), (2, 5), (2, 4), (1, 3), (3, 4), (1, 5), (4, 5)] # Add edges\n",
    "\n",
    "G.add_nodes_from([\n",
    "    (1, {\"color\": \"red\"}),\n",
    "    (2, {\"color\": \"green\"}),\n",
    "    (3, {\"color\": \"blue\"}),\n",
    "    (4, {\"color\": \"yellow\"}),\n",
    "    (5, {\"color\": \"purple\"})\n",
    "])\n",
    "G.add_edges_from(GE)\n",
    "\n",
    "# Second Graph\n",
    "H = nx.Graph()\n",
    "HE = [(\"a\", \"b\"), (\"b\", \"e\"), (\"b\", \"d\"), (\"a\", \"c\"), (\"c\", \"d\"), (\"a\", \"e\"), (\"d\", \"e\")]\n",
    "\n",
    "H.add_nodes_from([\n",
    "    (\"a\", {\"color\": \"red\"}),\n",
    "    (\"b\", {\"color\": \"green\"}),\n",
    "    (\"c\", {\"color\": \"blue\"}),\n",
    "    (\"d\", {\"color\": \"yellow\"}),\n",
    "    (\"e\", {\"color\": \"purple\"})\n",
    "])\n",
    "\n",
    "H.add_edges_from(HE)\n",
    "\n",
    "subax1 = plt.subplot(121)\n",
    "nx.draw(G, with_labels=True, font_weight='bold')\n",
    "subax2 = plt.subplot(122)\n",
    "nx.draw(H, with_labels=True, font_weight='bold')"
   ]
  },
  {
   "cell_type": "code",
   "execution_count": 40,
   "metadata": {},
   "outputs": [
    {
     "name": "stdout",
     "output_type": "stream",
     "text": [
      "True\n",
      "True\n",
      "Isomorphism found.\n"
     ]
    }
   ],
   "source": [
    "# First determine the amount of edges and nodes if they are the same with each other or not\n",
    "# Same number of nodes\n",
    "print(len(list(G.nodes)) == len(list(H.nodes)))\n",
    "\n",
    "# Same number of edges\n",
    "print(len(list(G.edges)) == len(list(H.edges)))\n",
    "\n",
    "# Then, create permutations for the H graph to compare with the other graph, G, \n",
    "# to see if one of the permutation has bijections that are the same as with each other\n",
    "HP = list(it.permutations(list(H.nodes),len(H.nodes)))\n",
    "HP = get_dictionary_permutation(HP)\n",
    "HR = get_final_permutations(HP, HE)\n",
    "check_bijections_isomorphism(HR, GE)"
   ]
  },
  {
   "attachments": {},
   "cell_type": "markdown",
   "metadata": {},
   "source": [
    "Now, these graphs are still isomorphic, but if we take a look at the length of the permutation:"
   ]
  },
  {
   "cell_type": "code",
   "execution_count": 41,
   "metadata": {},
   "outputs": [
    {
     "data": {
      "text/plain": [
       "120"
      ]
     },
     "execution_count": 41,
     "metadata": {},
     "output_type": "execute_result"
    }
   ],
   "source": [
    "len(HP)"
   ]
  },
  {
   "attachments": {},
   "cell_type": "markdown",
   "metadata": {},
   "source": [
    "The length significantly increased from when there's only 3 nodes. This is because the graphs would have to be permutated for every possible permutations of bijections that can occur for each graph. This is really a problem in runtime, as this is deemed as a brute force method, and that there's no shortcuts to this, even when trying to solve to a polynomial time. (one of the fastest runtime for executing a method)"
   ]
  },
  {
   "attachments": {},
   "cell_type": "markdown",
   "metadata": {},
   "source": [
    "Therefore, with the code above, the runtime for the code is around `N!` considering the entire code as a whole, which can be significant when it is plotted on a graph below. (comparing factorial and linear graph)"
   ]
  },
  {
   "cell_type": "code",
   "execution_count": 7,
   "metadata": {},
   "outputs": [
    {
     "data": {
      "image/png": "[encoded data removed]",
      "text/plain": [
       "<Figure size 640x480 with 1 Axes>"
      ]
     },
     "metadata": {},
     "output_type": "display_data"
    }
   ],
   "source": [
    "import numpy as np\n",
    "import matplotlib.pyplot as plt\n",
    "\n",
    "# generate x values\n",
    "x = list(range(1, 5))\n",
    "# generate factorial values\n",
    "factorial = list()\n",
    "for num in x:\n",
    "    factorial.append(np.math.factorial(num))\n",
    "\n",
    "# Plot the graphs\n",
    "plt.plot(x, factorial, label='N!')\n",
    "plt.plot(x, x, label='N')\n",
    "plt.legend()\n",
    "plt.xlabel('x')\n",
    "plt.ylabel('y')\n",
    "plt.title('Runtime')\n",
    "plt.show()\n"
   ]
  },
  {
   "attachments": {},
   "cell_type": "markdown",
   "metadata": {},
   "source": [
    "# An Attempt for Practical Algorithms for Graph Isomorphism\n",
    "There are attempts to make this algorithm more efficient. Take Stoichev's attempts as an example *insert citation here* where five new algorithms (all known as Vseps) are introduced. One particular algorithm, Vsep-is, is used for graph isomorphism. \n",
    "\n",
    "However, their worst case is still exponential time of `2^N`, which is still significant when compared to polynomial time or even linear time, as it compares every nodes of the graphs themselves.\n"
   ]
  },
  {
   "attachments": {},
   "cell_type": "markdown",
   "metadata": {},
   "source": [
    "# References\n",
    "(to do)\n",
    "* Stoichev, Stoicho D. (2019), \"New Exact and Heuristic Algorithms for Graph Automorphism Group and Graph Isomorphism\", Journal of Experimental Algorithmics (JEA), 24: 1–27."
   ]
  },
  {
   "attachments": {},
   "cell_type": "markdown",
   "metadata": {},
   "source": [
    "---\n",
    "\n",
    "End of notebook"
   ]
  }
 ],
 "metadata": {
  "kernelspec": {
   "display_name": "Python 3",
   "language": "python",
   "name": "python3"
  },
  "language_info": {
   "codemirror_mode": {
    "name": "ipython",
    "version": 3
   },
   "file_extension": ".py",
   "mimetype": "text/x-python",
   "name": "python",
   "nbconvert_exporter": "python",
   "pygments_lexer": "ipython3",
   "version": "3.11.1"
  },
  "orig_nbformat": 4,
  "vscode": {
   "interpreter": {
    "hash": "b792e2ec1d616a5be41c00988b281792666aee8eb307c13aae23c9a1b477ba42"
   }
  }
 },
 "nbformat": 4,
 "nbformat_minor": 2
}
