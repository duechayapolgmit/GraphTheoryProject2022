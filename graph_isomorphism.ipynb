{
 "cells": [
  {
   "attachments": {},
   "cell_type": "markdown",
   "metadata": {},
   "source": [
    "# Graph Isomorphism Problem\n",
    "\n",
    "**Graph Isomorphism Problem** (or GI, for short) concerns two finite graphs, whether they are isomorphic or not. A graph is **isomorphic** when the graph can have more than one form, with:\n",
    "\n",
    "* the same number of edges,\n",
    "* the same number of nodes, \n",
    "* each node has the same number of degree as its exact same node in another graph\n",
    "* a bijection that when one node is linked to another node in another graph, that link equates to one exists in the edges of both graphs\n",
    "\n",
    "In this case, **Graph Isomorphism Problem** involves how to determine if the graphs are isomorphic or not, fulfilling conditions above. This would involve making combinations of bijections to determine the isomorphic nature of the graphs. The combinations make would increase in a factorial number, depending on the amount of nodes, (e.g. 5 nodes will have 5! possible combinations) if done in a brute force method."
   ]
  },
  {
   "attachments": {},
   "cell_type": "markdown",
   "metadata": {},
   "source": [
    "## Determining the Isomorphic Nature\n",
    "To determine the isomorphic nature, let's set an example of a simple 3 node grpah, and its isomorphic graph."
   ]
  },
  {
   "cell_type": "code",
   "execution_count": 28,
   "metadata": {},
   "outputs": [
    {
     "data": {
      "image/png": "[encoded data removed]",
      "text/plain": [
       "<Figure size 640x480 with 2 Axes>"
      ]
     },
     "metadata": {},
     "output_type": "display_data"
    }
   ],
   "source": [
    "# Do \"pip install networkx\" and \"pip install matplotlib\" first to get the full functionalities \n",
    "import networkx as nx\n",
    "import matplotlib.pyplot as plt\n",
    "\n",
    "\n",
    "# First Graph\n",
    "G = nx.Graph()\n",
    "GE = [(1, 2), (2, 3)] # Add edges\n",
    "\n",
    "G.add_nodes_from([\n",
    "    (1, {\"color\": \"red\"}),\n",
    "    (2, {\"color\": \"green\"}),\n",
    "    (3, {\"color\": \"blue\"})\n",
    "])\n",
    "G.add_edges_from(GE)\n",
    "\n",
    "# Second Graph\n",
    "H = nx.Graph()\n",
    "HE = [(\"a\", \"b\"), (\"b\", \"c\")]\n",
    "\n",
    "H.add_nodes_from([\n",
    "    (\"a\", {\"color\": \"red\"}),\n",
    "    (\"b\", {\"color\": \"green\"}),\n",
    "    (\"c\", {\"color\": \"blue\"})\n",
    "])\n",
    "\n",
    "H.add_edges_from(HE)\n",
    "\n",
    "subax1 = plt.subplot(121)\n",
    "nx.draw(G, with_labels=True, font_weight='bold')\n",
    "subax2 = plt.subplot(122)\n",
    "nx.draw_spectral(H, with_labels=True, font_weight='bold')"
   ]
  },
  {
   "attachments": {},
   "cell_type": "markdown",
   "metadata": {},
   "source": [
    "The graphs are examined first with the two conditions: the same number of edges, and the same number of nodes"
   ]
  },
  {
   "cell_type": "code",
   "execution_count": 29,
   "metadata": {},
   "outputs": [
    {
     "data": {
      "text/plain": [
       "True"
      ]
     },
     "execution_count": 29,
     "metadata": {},
     "output_type": "execute_result"
    }
   ],
   "source": [
    "# Same number of nodes\n",
    "len(list(G.nodes)) == len(list(H.nodes))"
   ]
  },
  {
   "cell_type": "code",
   "execution_count": 30,
   "metadata": {},
   "outputs": [
    {
     "data": {
      "text/plain": [
       "True"
      ]
     },
     "execution_count": 30,
     "metadata": {},
     "output_type": "execute_result"
    }
   ],
   "source": [
    "# Same number of edges\n",
    "len(list(G.edges)) == len(list(H.edges))"
   ]
  },
  {
   "attachments": {},
   "cell_type": "markdown",
   "metadata": {},
   "source": [
    "As seen in those code above, the nodes and edges have the same numbers of nodes and edges. With this, we can move on to determining the isomorphic nature via analysing each combination of the graphs relationship."
   ]
  },
  {
   "cell_type": "code",
   "execution_count": 31,
   "metadata": {},
   "outputs": [
    {
     "data": {
      "text/plain": [
       "[('a', 'b', 'c'),\n",
       " ('a', 'c', 'b'),\n",
       " ('b', 'a', 'c'),\n",
       " ('b', 'c', 'a'),\n",
       " ('c', 'a', 'b'),\n",
       " ('c', 'b', 'a')]"
      ]
     },
     "execution_count": 31,
     "metadata": {},
     "output_type": "execute_result"
    }
   ],
   "source": [
    "import itertools as it\n",
    "\n",
    "# Firstly, we will need to get all the permutations of another graph, in this case, H.\n",
    "HP = list(it.permutations(list(H.nodes),3))\n",
    "\n",
    "HP"
   ]
  },
  {
   "cell_type": "code",
   "execution_count": 32,
   "metadata": {},
   "outputs": [
    {
     "data": {
      "text/plain": [
       "[{'a': 1, 'b': 2, 'c': 3},\n",
       " {'a': 1, 'c': 2, 'b': 3},\n",
       " {'b': 1, 'a': 2, 'c': 3},\n",
       " {'b': 1, 'c': 2, 'a': 3},\n",
       " {'c': 1, 'a': 2, 'b': 3},\n",
       " {'c': 1, 'b': 2, 'a': 3}]"
      ]
     },
     "execution_count": 32,
     "metadata": {},
     "output_type": "execute_result"
    }
   ],
   "source": [
    "# Then, map each permutation with the nodes from the previous graph, G\n",
    "for i in range(len(HP)):\n",
    "    HP[i] = dict(zip(HP[i],G.nodes))\n",
    "\n",
    "HP"
   ]
  },
  {
   "cell_type": "code",
   "execution_count": 59,
   "metadata": {},
   "outputs": [
    {
     "data": {
      "text/plain": [
       "[[(1, 2), (2, 3)],\n",
       " [(1, 3), (3, 2)],\n",
       " [(2, 1), (1, 3)],\n",
       " [(3, 1), (1, 2)],\n",
       " [(2, 3), (3, 1)],\n",
       " [(3, 2), (2, 1)]]"
      ]
     },
     "execution_count": 59,
     "metadata": {},
     "output_type": "execute_result"
    }
   ],
   "source": [
    "# After which, subsitute the edges for each possible permutations with the ones from dictionary above\n",
    "HR = list()\n",
    "for i in range(len(HP)): # Run through each permutation\n",
    "    HT = list()\n",
    "    for j in range(len(HE)): # Run through each edge\n",
    "        HU = list()\n",
    "        for k in range(len(HE[j])): # For each node in an edge\n",
    "            HU.append(HP[i][HE[j][k]]) # Subsitute graph H with Graph G\n",
    "        HT.append(tuple(HU))\n",
    "    HR.append(HT)\n",
    "\n",
    "HR"
   ]
  },
  {
   "cell_type": "code",
   "execution_count": 61,
   "metadata": {},
   "outputs": [
    {
     "name": "stdout",
     "output_type": "stream",
     "text": [
      "Isomorphism found.\n"
     ]
    }
   ],
   "source": [
    "# Compare each edges for each permutation to the one in the previous graph (G)\n",
    "for i in range(len(HR)):\n",
    "    if (HR[i] == GE): # If a permutation of edges is the same as with the previous graph's edges, print out the message\n",
    "        print(\"Isomorphism found.\")\n",
    "        break\n",
    "    elif (i == len(HR)-1):\n",
    "        print(\"Isomorphism not found.\")"
   ]
  },
  {
   "attachments": {},
   "cell_type": "markdown",
   "metadata": {},
   "source": [
    "---\n",
    "\n",
    "End of notebook"
   ]
  }
 ],
 "metadata": {
  "kernelspec": {
   "display_name": "Python 3",
   "language": "python",
   "name": "python3"
  },
  "language_info": {
   "codemirror_mode": {
    "name": "ipython",
    "version": 3
   },
   "file_extension": ".py",
   "mimetype": "text/x-python",
   "name": "python",
   "nbconvert_exporter": "python",
   "pygments_lexer": "ipython3",
   "version": "3.11.1"
  },
  "orig_nbformat": 4,
  "vscode": {
   "interpreter": {
    "hash": "b792e2ec1d616a5be41c00988b281792666aee8eb307c13aae23c9a1b477ba42"
   }
  }
 },
 "nbformat": 4,
 "nbformat_minor": 2
}
