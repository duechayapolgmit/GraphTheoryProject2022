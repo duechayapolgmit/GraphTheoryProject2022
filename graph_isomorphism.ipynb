{
 "cells": [
  {
   "attachments": {},
   "cell_type": "markdown",
   "metadata": {},
   "source": [
    "# Graph Isomorphism Problem\n",
    "\n",
    "**Graph Isomorphism Problem** (or GI, for short) concerns two finite graphs, whether they are isomorphic or not. A graph is **isomorphic** when the graph can have more than one form, with:\n",
    "\n",
    "* the same number of edges,\n",
    "* the same number vertices, \n",
    "* have the same amount of connecting edges when compared to another graphs (i.e. same degree sequence), and\n",
    "* the same number of a cycle in a particular length.\n",
    "\n",
    "For this, graph isomorphic problem concerns whether the problem can be solved in **polynomial** time or not.\n",
    "\n",
    "*A **polynomial** time a constant to the power of n. (e.g. $ 2^n $)*"
   ]
  }
 ],
 "metadata": {
  "kernelspec": {
   "display_name": "Python 3",
   "language": "python",
   "name": "python3"
  },
  "language_info": {
   "codemirror_mode": {
    "name": "ipython",
    "version": 3
   },
   "file_extension": ".py",
   "mimetype": "text/x-python",
   "name": "python",
   "nbconvert_exporter": "python",
   "pygments_lexer": "ipython3",
   "version": "3.11.1 (tags/v3.11.1:a7a450f, Dec  6 2022, 19:58:39) [MSC v.1934 64 bit (AMD64)]"
  },
  "orig_nbformat": 4,
  "vscode": {
   "interpreter": {
    "hash": "b792e2ec1d616a5be41c00988b281792666aee8eb307c13aae23c9a1b477ba42"
   }
  }
 },
 "nbformat": 4,
 "nbformat_minor": 2
}
