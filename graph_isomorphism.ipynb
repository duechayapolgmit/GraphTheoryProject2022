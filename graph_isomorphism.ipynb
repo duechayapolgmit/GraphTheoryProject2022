{
 "cells": [
  {
   "attachments": {},
   "cell_type": "markdown",
   "metadata": {},
   "source": [
    "# Graph Isomorphism Problem\n",
    "*Chayapol \"Due\" Hongsrimuang - G00388741*\n",
    "\n",
    "---\n",
    "\n",
    "When describing a **graph**, it can be described as a 2-tuple of (N, E) where N is a set of nodes, and E is a set of 2-subsets of N, known as edges. These edges connect the nodes together to form a graph relationship.\n",
    "\n",
    "**Graph Isomorphism Problem** (or GI, for short) concerns two finite graphs, whether they are isomorphic or not. A graph is **isomorphic** when the graph can have more than one form, with:\n",
    "\n",
    "* the same number of edges,\n",
    "* the same number of nodes, \n",
    "* each node has the same number of degree as its exact same node in another graph\n",
    "* a bijection that when one node is linked to another node in another graph, that link equates to one exists in the edges of both graphs\n",
    "\n",
    "In this case, **Graph Isomorphism Problem** involves how to determine if the graphs are isomorphic or not, fulfilling conditions above. This would involve making combinations of bijections to determine the isomorphic nature of the graphs. The combinations make would increase in a factorial number, depending on the amount of nodes, (e.g. 5 nodes will have 5! possible combinations) if done in a brute force method."
   ]
  },
  {
   "attachments": {},
   "cell_type": "markdown",
   "metadata": {},
   "source": [
    "## Determining the Isomorphic Nature\n",
    "To determine the isomorphic nature, let's set an example of a simple 3 node graph, and its isomorphic graph."
   ]
  },
  {
   "cell_type": "code",
   "execution_count": null,
   "metadata": {},
   "outputs": [],
   "source": [
    "# Do \"pip install networkx\" and \"pip install matplotlib\" first to get the full functionalities \n",
    "import networkx as nx\n",
    "import matplotlib.pyplot as plt\n",
    "\n",
    "# First Graph\n",
    "G = nx.Graph()\n",
    "GE = [(1, 2), (2, 3)] # Add edges\n",
    "\n",
    "G.add_nodes_from([\n",
    "    (1, {\"color\": \"red\"}),\n",
    "    (2, {\"color\": \"green\"}),\n",
    "    (3, {\"color\": \"blue\"})\n",
    "])\n",
    "G.add_edges_from(GE)\n",
    "\n",
    "# Second Graph\n",
    "H = nx.Graph()\n",
    "HE = [(\"a\", \"b\"), (\"b\", \"c\")]\n",
    "\n",
    "H.add_nodes_from([\n",
    "    (\"a\", {\"color\": \"red\"}),\n",
    "    (\"b\", {\"color\": \"green\"}),\n",
    "    (\"c\", {\"color\": \"blue\"})\n",
    "])\n",
    "\n",
    "H.add_edges_from(HE)\n",
    "\n",
    "subax1 = plt.subplot(121)\n",
    "nx.draw(G, with_labels=True, font_weight='bold')\n",
    "subax2 = plt.subplot(122)\n",
    "nx.draw_spectral(H, with_labels=True, font_weight='bold')"
   ]
  },
  {
   "attachments": {},
   "cell_type": "markdown",
   "metadata": {},
   "source": [
    "The graphs are examined first with the two conditions: the same number of edges, and the same number of nodes"
   ]
  },
  {
   "cell_type": "code",
   "execution_count": null,
   "metadata": {},
   "outputs": [],
   "source": [
    "# Same number of nodes\n",
    "len(list(G.nodes)) == len(list(H.nodes))"
   ]
  },
  {
   "cell_type": "code",
   "execution_count": null,
   "metadata": {},
   "outputs": [],
   "source": [
    "# Same number of edges\n",
    "len(list(G.edges)) == len(list(H.edges))"
   ]
  },
  {
   "attachments": {},
   "cell_type": "markdown",
   "metadata": {},
   "source": [
    "As seen in those code above, the nodes and edges have the same numbers of nodes and edges. With this, we can move on to determining the isomorphic nature via analysing each combination of the graphs relationship."
   ]
  },
  {
   "cell_type": "code",
   "execution_count": null,
   "metadata": {},
   "outputs": [],
   "source": [
    "import itertools as it\n",
    "\n",
    "# Firstly, we will need to get all the permutations of another graph, in this case, H.\n",
    "HP = list(it.permutations(list(H.nodes),len(H.nodes)))\n",
    "\n",
    "HP"
   ]
  },
  {
   "cell_type": "code",
   "execution_count": null,
   "metadata": {},
   "outputs": [],
   "source": [
    "# Then, map each permutation with the nodes from the previous graph, G\n",
    "def get_dictionary_permutation(permutation):\n",
    "    for i in range(len(permutation)):\n",
    "        permutation[i] = dict(zip(permutation[i],G.nodes))\n",
    "    return permutation\n",
    "\n",
    "HP = get_dictionary_permutation(HP)\n",
    "HP"
   ]
  },
  {
   "cell_type": "code",
   "execution_count": null,
   "metadata": {},
   "outputs": [],
   "source": [
    "# After which, subsitute the edges for each possible permutations with the ones from dictionary above\n",
    "def get_final_permutations(permutation, edge):\n",
    "    final_list = list()\n",
    "    for i in range(len(permutation)): # Run through each permutation\n",
    "        permutation_tuple = list()\n",
    "        for j in range(len(edge)): # Run through each edge\n",
    "            permutation_each = list()\n",
    "            for k in range(len(edge[j])): # For each node in an edge\n",
    "                permutation_each.append(permutation[i][edge[j][k]]) # Subsitute graph H with Graph G\n",
    "            permutation_tuple.append(tuple(permutation_each))\n",
    "        final_list.append(permutation_tuple)\n",
    "    return final_list\n",
    "\n",
    "HR = get_final_permutations(HP, HE)\n",
    "HR"
   ]
  },
  {
   "cell_type": "code",
   "execution_count": null,
   "metadata": {},
   "outputs": [],
   "source": [
    "# Compare each edges for each permutation to the one in the previous graph (G)\n",
    "def check_bijections_isomorphism(final_permutation, other_edge):\n",
    "    for i in range(len(final_permutation)):\n",
    "        if (final_permutation[i] == other_edge): # If a permutation of edges is the same as with the previous graph's edges, print out the message\n",
    "            print(\"Isomorphism found.\")\n",
    "            break\n",
    "        elif (i == len(final_permutation)-1):\n",
    "            print(\"Isomorphism not found.\")\n",
    "\n",
    "check_bijections_isomorphism(HR, GE)"
   ]
  },
  {
   "attachments": {},
   "cell_type": "markdown",
   "metadata": {},
   "source": [
    "As seen above, graph isomorphism is found in a relatively simple graph. Here's a more complicated example, with more edges, and more nodes:"
   ]
  },
  {
   "cell_type": "code",
   "execution_count": null,
   "metadata": {},
   "outputs": [],
   "source": [
    "# First Graph\n",
    "G = nx.Graph()\n",
    "GE = [(1, 2), (2, 5), (2, 4), (1, 3), (3, 4), (1, 5), (4, 5)] # Add edges\n",
    "\n",
    "G.add_nodes_from([\n",
    "    (1, {\"color\": \"red\"}),\n",
    "    (2, {\"color\": \"green\"}),\n",
    "    (3, {\"color\": \"blue\"}),\n",
    "    (4, {\"color\": \"yellow\"}),\n",
    "    (5, {\"color\": \"purple\"})\n",
    "])\n",
    "G.add_edges_from(GE)\n",
    "\n",
    "# Second Graph\n",
    "H = nx.Graph()\n",
    "HE = [(\"a\", \"b\"), (\"b\", \"e\"), (\"b\", \"d\"), (\"a\", \"c\"), (\"c\", \"d\"), (\"a\", \"e\"), (\"d\", \"e\")]\n",
    "\n",
    "H.add_nodes_from([\n",
    "    (\"a\", {\"color\": \"red\"}),\n",
    "    (\"b\", {\"color\": \"green\"}),\n",
    "    (\"c\", {\"color\": \"blue\"}),\n",
    "    (\"d\", {\"color\": \"yellow\"}),\n",
    "    (\"e\", {\"color\": \"purple\"})\n",
    "])\n",
    "\n",
    "H.add_edges_from(HE)\n",
    "\n",
    "subax1 = plt.subplot(121)\n",
    "nx.draw(G, with_labels=True, font_weight='bold')\n",
    "subax2 = plt.subplot(122)\n",
    "nx.draw(H, with_labels=True, font_weight='bold')"
   ]
  },
  {
   "cell_type": "code",
   "execution_count": null,
   "metadata": {},
   "outputs": [],
   "source": [
    "# First determine the amount of edges and nodes if they are the same with each other or not\n",
    "# Same number of nodes\n",
    "print(len(list(G.nodes)) == len(list(H.nodes)))\n",
    "\n",
    "# Same number of edges\n",
    "print(len(list(G.edges)) == len(list(H.edges)))\n",
    "\n",
    "# Then, create permutations for the H graph to compare with the other graph, G, \n",
    "# to see if one of the permutation has bijections that are the same as with each other\n",
    "HP = list(it.permutations(list(H.nodes),len(H.nodes)))\n",
    "HP = get_dictionary_permutation(HP)\n",
    "HR = get_final_permutations(HP, HE)\n",
    "check_bijections_isomorphism(HR, GE)"
   ]
  },
  {
   "attachments": {},
   "cell_type": "markdown",
   "metadata": {},
   "source": [
    "Now, these graphs are still isomorphic, but if we take a look at the length of the permutation:"
   ]
  },
  {
   "cell_type": "code",
   "execution_count": null,
   "metadata": {},
   "outputs": [],
   "source": [
    "len(HP)"
   ]
  },
  {
   "attachments": {},
   "cell_type": "markdown",
   "metadata": {},
   "source": [
    "The length significantly increased from when there's only 3 nodes. This is because the graphs would have to be permutated for every possible permutations of bijections that can occur for each graph. This is really a problem in runtime, as this is deemed as a brute force method, and that there's no shortcuts to this, even when trying to solve to a polynomial time. (one of the fastest runtime for executing a method)"
   ]
  },
  {
   "attachments": {},
   "cell_type": "markdown",
   "metadata": {},
   "source": [
    "Therefore, with the code above, the runtime for the code is around `N!` considering the entire code as a whole, which can be significant when it is plotted on a graph below. (comparing factorial and linear graph)"
   ]
  },
  {
   "cell_type": "code",
   "execution_count": null,
   "metadata": {},
   "outputs": [],
   "source": [
    "import numpy as np\n",
    "import matplotlib.pyplot as plt\n",
    "\n",
    "# generate x values\n",
    "x = list(range(1, 5))\n",
    "# generate factorial values\n",
    "factorial = list()\n",
    "for num in x:\n",
    "    factorial.append(np.math.factorial(num))\n",
    "\n",
    "# Plot the graphs\n",
    "plt.plot(x, factorial, label='N!')\n",
    "plt.plot(x, x, label='N')\n",
    "plt.legend()\n",
    "plt.xlabel('x')\n",
    "plt.ylabel('y')\n",
    "plt.title('Runtime')\n",
    "plt.show()\n"
   ]
  },
  {
   "attachments": {},
   "cell_type": "markdown",
   "metadata": {},
   "source": [
    "## Attempts for Practical Algorithms for Graph Isomorphism\n",
    "There are attempts to make this algorithm more efficient. Take Stoichev's attempts as an example, where five new algorithms (all known as Vseps) are introduced. One particular algorithm, Vsep-is, is used for graph isomorphism. \n",
    "\n",
    "However, their worst case is still exponential time of ${2^N}$, which is still significant when compared to polynomial time or even linear time, as it compares every nodes of the graphs themselves.\n",
    "\n",
    "There are also some attempts to tackle to this problem by randomly permuting a graph and then perform the check in a certain amount of attempt, however, there is a probability of the program used to be incorrect of around ${2^{-x}}$ where x is the amount of attempts to determine the isomorphic nature of the graphs. Therefore, it is much more reliable to go through all the permutations of the graphs.\n",
    "\n",
    "Throughout researches and countless algorithms, it was deduced that the best running time (other than the ones described above) is in quasipolynomial time. (${log^3n}$). One such algorithm is the **László Babai algorithm**. The strategy is to break the graph to smaller instances using canonical colouring/equipartition (colouring vertices of the same degree and same neighbours) Then, compare the colours to see if they correspond to each other. This approach helps reduce the amount of checks required to prove that the graphs are isomorphic, and therefore, reduce the runtime to be in quasipolynomial time.\n",
    "\n",
    "The worst case scenarios for the runtime above is ${2^{O(log^Cn)}}$ for some fixed ${c > 0}$. This runtime is faster than exponential time, but slower than polynomial time. The current problem of solving the graph isomorphism problem is to find a way to solve the graph isomorphism problem in polynomial time. \n",
    "\n",
    "Therefore, this problem is considered to be in class **NP-Complete** (not solvable in polynomial time), but still is aimed to solved in class P (solved in polynomial time)"
   ]
  },
  {
   "attachments": {},
   "cell_type": "markdown",
   "metadata": {},
   "source": [
    "## Special Solved Cases\n",
    "Despite the problem not being able to be solved in polynomial time (or similar) efficiently, there are however some special cases in regards to some specific graph types. These graphs are known to be solved in a much more efficient way than the one described above."
   ]
  },
  {
   "attachments": {},
   "cell_type": "markdown",
   "metadata": {},
   "source": [
    "### Trees\n",
    "A tree is a graph in which there is always a \"root\" node containing all possible paths to each branch of the graph. In which, all the subsequent nodes are connected only in a path, leading either down the path or going back to the root node. If any of the nodes are removed, then the graphs would be disconnected to each other. In this type of graph, the edges amount is exactly `n-1` in which `n` is the amount of nodes present in the graph itself.\n",
    "\n",
    "Graph isomorphism in this type of graph can easily be determined by:\n",
    "* Comparing the amount of nodes and edges\n",
    "* Finding the root nodes of the graphs (the one that has more than 2 edges connected.)\n",
    "    * If there is a graph with more than one node that has more than 2 edges connected, the graph is not a tree, and therefore not isomorphic compared to another graph.\n",
    "* Find the amount of branches in the graph (from the root node's edges) and determine how deep each branch goes. If the number is exactly the same as one another, then it could be determined that the graphs are isomorphic.\n",
    "\n",
    "It is relatively a simpler approach when it comes to determining the isomorphic nature of the graph and much more efficient, as they do not go through every single nodes in the graphs themselves, compared to random graph examples like above."
   ]
  },
  {
   "attachments": {},
   "cell_type": "markdown",
   "metadata": {},
   "source": [
    "### Planar Graphs\n",
    "Planar graphs area graphs that are known to not have their edges crosses with each other, and only intersects with their nodes. Examples of these graphs are butterfly graphs and K<sub>4</sub> complete graphs.\n",
    "\n",
    "These graphs follow the Euler's formula: ${v-e+f=2}$, where ${v}$ is the number of nodes, ${e}$ is the number of edges, and ${f}$ is the number of faces. These faces are determined by the region bounded by edges.\n",
    "\n",
    "To determine that these graphs are isomorphic, alongside fulfilling the conditions for isomorphic graphs above, it also has to match with the formula as well. However, this can be done in linear time of `N(V)` where V is the number of nodes of the graph, as with the nature of the graph itself.\n",
    "\n"
   ]
  },
  {
   "attachments": {},
   "cell_type": "markdown",
   "metadata": {},
   "source": [
    "### Circulant Graphs\n",
    "Circulant graphs are graphs in which the graph has an adjacency matrix of a circulant matrix. This matrix has a specific property in which each row is shifted by one to the right, until it fulfills the matrix itself.\n",
    "\n",
    "As an example, here is a 5x5 circular matrix,\n",
    "$${ \\begin{bmatrix} 5 & 4 & 3 & 2 & 1 \\\\ 1 & 5 & 4 & 3 & 2 \\\\ 2 & 1 & 5 & 4 & 3 \\\\ 3 & 2 & 1 & 5 & 4 \\\\ 4 & 3 & 2 & 1 & 5\\end{bmatrix}}$$\n",
    "Each row is a circular shift of a previous row, until the first input matches the last input of the matrix (that being 5 for the matrix above)\n",
    "\n",
    "Isomorphism can easily be determined by the same amounts of edges and nodes, as well as having the same adjacency matrix with each other as well. This graphs can be recognised by polynomial time, which therefore solving the graph isomorphism problem for this special type of graph."
   ]
  },
  {
   "attachments": {},
   "cell_type": "markdown",
   "metadata": {},
   "source": [
    "## Applications\n",
    "Graph isomorphism problem is used in a wide range of technologies that are still in use today, dominantly in computer vision and pattern recognition, in which, similar to graphs, this technology is used to match the patterns of an image to a patttern determined by the user. This same exact concept is used in chemistry as well, to determine the chemical compound by its molecular graph as well as in biochemistry, where graphs are relatively complex with each other. \n",
    "\n",
    "Therefore, to ease the work that is used in those categories, this problem is still an on-going research to find out a way to make these more efficient."
   ]
  },
  {
   "attachments": {},
   "cell_type": "markdown",
   "metadata": {},
   "source": [
    "## References\n",
    "* McLoughlin, I. (2023) Graphs, Groups, and Isomorphisms. Available at: https://github.com/ianmcloughlin/graphs-groups-and-isomorphisms/blob/main/graphs-groups-and-isomorphisms.pdf.\n",
    "* Krena, I.B. (2001), The Graph Isomorphism Problem. Available at: http://www.fit.vutbr.cz/~krena/prace/stc2001.pdf. \n",
    "* Stoichev, Stoicho D. (2019), \"New Exact and Heuristic Algorithms for Graph Automorphism Group and Graph Isomorphism\", Journal of Experimental Algorithmics (JEA), 24: 1–27.\n",
    "* Babai, L. (2016) “Graph isomorphism in quasipolynomial time [extended abstract],” Proceedings of the forty-eighth annual ACM symposium on Theory of Computing [Preprint]. Available at: https://doi.org/10.1145/2897518.2897542. \n",
    "* Graph theory - isomorphism (no date) Tutorials Point. Available at: https://www.tutorialspoint.com/graph_theory/graph_theory_isomorphism.htm. \n",
    "* Circulant-Matrices (2017). Available at: https://web.mit.edu/18.06/www/Spring17/Circulant-Matrices.pdf. "
   ]
  },
  {
   "attachments": {},
   "cell_type": "markdown",
   "metadata": {},
   "source": [
    "---\n",
    "\n",
    "End of notebook"
   ]
  }
 ],
 "metadata": {
  "kernelspec": {
   "display_name": "Python 3",
   "language": "python",
   "name": "python3"
  },
  "language_info": {
   "codemirror_mode": {
    "name": "ipython",
    "version": 3
   },
   "file_extension": ".py",
   "mimetype": "text/x-python",
   "name": "python",
   "nbconvert_exporter": "python",
   "pygments_lexer": "ipython3",
   "version": "3.11.2"
  },
  "orig_nbformat": 4,
  "vscode": {
   "interpreter": {
    "hash": "b792e2ec1d616a5be41c00988b281792666aee8eb307c13aae23c9a1b477ba42"
   }
  }
 },
 "nbformat": 4,
 "nbformat_minor": 2
}
