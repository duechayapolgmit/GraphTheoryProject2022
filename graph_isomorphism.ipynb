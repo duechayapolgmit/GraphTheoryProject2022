{
 "cells": [],
 "metadata": {
  "kernelspec": {
   "display_name": "Python 3",
   "language": "python",
   "name": "python3"
  },
  "language_info": {
   "name": "python",
   "version": "3.11.1 (tags/v3.11.1:a7a450f, Dec  6 2022, 19:58:39) [MSC v.1934 64 bit (AMD64)]"
  },
  "orig_nbformat": 4,
  "vscode": {
   "interpreter": {
    "hash": "b792e2ec1d616a5be41c00988b281792666aee8eb307c13aae23c9a1b477ba42"
   }
  }
 },
 "nbformat": 4,
 "nbformat_minor": 2
}
